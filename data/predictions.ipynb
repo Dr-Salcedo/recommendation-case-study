{
 "cells": [
  {
   "cell_type": "code",
   "execution_count": 1,
   "metadata": {},
   "outputs": [],
   "source": [
    "import pandas as pd\n",
    "\n",
    "user_ratings = pd.read_csv('user_ratings.csv')\n",
    "genres = pd.read_csv('genres.csv')\n",
    "users = pd.read_csv('users.csv')"
   ]
  },
  {
   "cell_type": "code",
   "execution_count": 2,
   "metadata": {},
   "outputs": [],
   "source": [
    "genres = genres.iloc[:, 2:]\n",
    "user_ratings = user_ratings.iloc[:, 1:]\n",
    "users = users.iloc[:, 1:]"
   ]
  },
  {
   "cell_type": "code",
   "execution_count": null,
   "metadata": {},
   "outputs": [],
   "source": [
    "# quarter1 = user_ratings.iloc[:, :100].merge(genres, on='movie_id', how='inner')"
   ]
  },
  {
   "cell_type": "code",
   "execution_count": null,
   "metadata": {},
   "outputs": [],
   "source": [
    "# quarter1.info()"
   ]
  },
  {
   "cell_type": "code",
   "execution_count": null,
   "metadata": {},
   "outputs": [],
   "source": [
    "# quarter2 = user_ratings.iloc[:, 179987:359974].merge(genres, on='movie_id', how='left')"
   ]
  },
  {
   "cell_type": "code",
   "execution_count": null,
   "metadata": {},
   "outputs": [],
   "source": [
    "# quarter3 = user_ratings.iloc[:, 359974:539961].merge(genres, on='movie_id', how='left')"
   ]
  },
  {
   "cell_type": "code",
   "execution_count": null,
   "metadata": {},
   "outputs": [],
   "source": [
    "# quarter4 = usser_ratings.iloc[:, 539961:].merge(genres, on='movie_id', how='left')"
   ]
  },
  {
   "cell_type": "code",
   "execution_count": 3,
   "metadata": {},
   "outputs": [],
   "source": [
    "# zdf = pd.concat([quarter1, quarter2, quarter3, quarter4], axis=0)"
   ]
  },
  {
   "cell_type": "code",
   "execution_count": null,
   "metadata": {},
   "outputs": [],
   "source": [
    "# df.to_csv('df.csv')"
   ]
  },
  {
   "cell_type": "code",
   "execution_count": null,
   "metadata": {},
   "outputs": [],
   "source": [
    "from sklearn.ensemble import RandomForestClassifier\n",
    "# from sklearn.preprocessing import train_test_split\n",
    "from sklearn.model_selection import train_test_split\n",
    "\n",
    "X = user_ratings.drop([\"rating\"], axis=1)\n",
    "y = user_ratings[\"rating\"]\n",
    "\n",
    "X_train, X_test, y_train, y_test = train_test_split(X, y, test_size=0.33, random_state=142, stratify = y)\n",
    "\n",
    "forest_amount = RandomForestClassifier(n_estimators=200, max_depth=10)\n",
    "forest_amount.fit(X_train, y_train)\n",
    "print(\"Train Accuracy\", forest_amount.score(X_train, y_train)) # Accuracy of training data\n",
    "print(\"Test Accuracy\", forest_amount.score(X_test, y_test)) # Accuracy of test data\n",
    "\n",
    "# plot_feature_importances(forest_amount) # plot using function above\n",
    "def plot_feature_importances(model):\n",
    "   '''plots the importance of each feature.  Useful for something like KNN so you can tell which features are useful '''\n",
    "   n_features = X_train.shape[1]\n",
    "   plt.figure(figsize=(8,8))\n",
    "   plt.barh(range(n_features), model.feature_importances_, align='center')\n",
    "   plt.yticks(np.arange(n_features), X_train.columns.values)\n",
    "   plt.xlabel(\"Feature importance\")\n",
    "   plt.ylabel(\"Feature\")"
   ]
  },
  {
   "cell_type": "code",
   "execution_count": null,
   "metadata": {},
   "outputs": [],
   "source": [
    "# fit all data to model \n",
    "forest_amount = RandomForestClassifier(n_estimators=30, max_depth= 9)\n",
    "forest_amount.fit(X, y)\n",
    "print(\"Accuracy\", forest_amount.score(X, y)) "
   ]
  },
  {
   "cell_type": "code",
   "execution_count": null,
   "metadata": {},
   "outputs": [],
   "source": [
    "users.head()"
   ]
  },
  {
   "cell_type": "code",
   "execution_count": null,
   "metadata": {},
   "outputs": [],
   "source": [
    "# make new users dataset\n",
    "new_X = pd.read_csv('request_df.csv')\n",
    "\n",
    "new_X = new_X.iloc[:, 1:]\n",
    "new_X = new_X.merge(users, left_on=\"user_id\", right_on='UserID', how='left')\n",
    "new_X['Zip-code']=new_X[\"Zip-code\"].apply(lambda x: x[:5])\n",
    "new_X[\"Zip-code\"]=new_X[\"Zip-code\"].astype(int)\n",
    "new_X = pd.get_dummies(new_X, columns=['Gender'], drop_first=True)\n",
    "new_X = new_X.drop(['rating'], axis=1)"
   ]
  },
  {
   "cell_type": "code",
   "execution_count": null,
   "metadata": {},
   "outputs": [],
   "source": [
    "new_X.info()"
   ]
  },
  {
   "cell_type": "code",
   "execution_count": null,
   "metadata": {},
   "outputs": [],
   "source": [
    "# make predictions on new users\n",
    "\n",
    "predictions = forest_amount.predict(new_X)"
   ]
  },
  {
   "cell_type": "code",
   "execution_count": null,
   "metadata": {},
   "outputs": [],
   "source": [
    "# make a df of predictions\n",
    "\n",
    "predictions_df = pd.DataFrame({'userId': new_X['UserID'], 'movieId': new_X['movie_id'], 'predictions': predictions})\n",
    "\n"
   ]
  },
  {
   "cell_type": "code",
   "execution_count": 41,
   "metadata": {},
   "outputs": [
    {
     "data": {
      "text/plain": [
       "4    248766\n",
       "5     25579\n",
       "3      5581\n",
       "2       186\n",
       "1       148\n",
       "Name: predictions, dtype: int64"
      ]
     },
     "execution_count": 41,
     "metadata": {},
     "output_type": "execute_result"
    }
   ],
   "source": [
    "predictions_df.predictions.value_counts()"
   ]
  },
  {
   "cell_type": "code",
   "execution_count": 46,
   "metadata": {},
   "outputs": [
    {
     "data": {
      "text/plain": [
       "4    250180\n",
       "3    186675\n",
       "5    166246\n",
       "2     76138\n",
       "1     40710\n",
       "Name: rating, dtype: int64"
      ]
     },
     "execution_count": 46,
     "metadata": {},
     "output_type": "execute_result"
    }
   ],
   "source": [
    "user_ratings['rating'].value_counts()"
   ]
  },
  {
   "cell_type": "code",
   "execution_count": null,
   "metadata": {},
   "outputs": [],
   "source": [
    "predictions_df.to_csv('predictions.csv')"
   ]
  },
  {
   "cell_type": "code",
   "execution_count": null,
   "metadata": {},
   "outputs": [],
   "source": []
  }
 ],
 "metadata": {
  "kernelspec": {
   "display_name": "Python 3",
   "language": "python",
   "name": "python3"
  },
  "language_info": {
   "codemirror_mode": {
    "name": "ipython",
    "version": 3
   },
   "file_extension": ".py",
   "mimetype": "text/x-python",
   "name": "python",
   "nbconvert_exporter": "python",
   "pygments_lexer": "ipython3",
   "version": "3.7.3"
  }
 },
 "nbformat": 4,
 "nbformat_minor": 2
}
