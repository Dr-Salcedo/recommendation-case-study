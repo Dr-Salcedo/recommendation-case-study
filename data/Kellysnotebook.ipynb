{
 "cells": [
  {
   "cell_type": "code",
   "execution_count": 1,
   "metadata": {},
   "outputs": [],
   "source": [
    "import pyspark\n",
    "conf = pyspark.SparkConf().set('spark.driver.host','127.0.0.1')\n",
    "sc = pyspark.SparkContext('local[*]', conf=conf)\n",
    "\n",
    "spark = (pyspark.sql.SparkSession.builder \n",
    "  .master(\"local[*]\")\n",
    "  .getOrCreate())"
   ]
  },
  {
   "cell_type": "code",
   "execution_count": 3,
   "metadata": {},
   "outputs": [
    {
     "name": "stdout",
     "output_type": "stream",
     "text": [
      "LICENSE             Untitled.ipynb      \u001b[31mmovies_metadata.csv\u001b[m\u001b[m requests.json\r\n",
      "README              movies.dat          ratings.json        users.dat\r\n"
     ]
    }
   ],
   "source": [
    "!ls"
   ]
  },
  {
   "cell_type": "code",
   "execution_count": 22,
   "metadata": {},
   "outputs": [],
   "source": [
    "import pandas as pd\n",
    "import json\n",
    "\n",
    "# with open('ratings.json', 'r') as f:\n",
    "#     dict1 = {}\n",
    "#     dict2 = {}\n",
    "    \n",
    "#     ratings = json.loads(json.dumps([dict1, dict2]))\n",
    "\n",
    "ratings = []\n",
    "for line in open('ratings.json', 'r'):\n",
    "    ratings.append(json.loads(line))\n",
    "\n"
   ]
  },
  {
   "cell_type": "code",
   "execution_count": 27,
   "metadata": {},
   "outputs": [],
   "source": [
    "ratings_dict={}\n",
    "ratings_dict['user_id'] = [i['user_id'] for i in ratings]\n",
    "ratings_dict['movie_id'] = [i['movie_id'] for i in ratings]\n",
    "ratings_dict['rating'] = [i['rating'] for i in ratings]\n",
    "ratings_dict['timestamp'] = [i['timestamp'] for i in ratings]\n",
    "\n",
    "ratings_df = pd.DataFrame(ratings_dict)"
   ]
  },
  {
   "cell_type": "code",
   "execution_count": 33,
   "metadata": {},
   "outputs": [],
   "source": [
    "ratings_df['timestamp'] = ratings_df['timestamp'].astype(int)\n",
    "ratings_df.to_csv('ratings_df.csv')"
   ]
  },
  {
   "cell_type": "code",
   "execution_count": null,
   "metadata": {},
   "outputs": [],
   "source": []
  }
 ],
 "metadata": {
  "kernelspec": {
   "display_name": "Python 3",
   "language": "python",
   "name": "python3"
  },
  "language_info": {
   "codemirror_mode": {
    "name": "ipython",
    "version": 3
   },
   "file_extension": ".py",
   "mimetype": "text/x-python",
   "name": "python",
   "nbconvert_exporter": "python",
   "pygments_lexer": "ipython3",
   "version": "3.7.3"
  }
 },
 "nbformat": 4,
 "nbformat_minor": 2
}
